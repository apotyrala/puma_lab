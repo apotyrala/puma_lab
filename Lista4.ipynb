{
  "nbformat": 4,
  "nbformat_minor": 0,
  "metadata": {
    "colab": {
      "name": "Lista4.ipynb",
      "version": "0.3.2",
      "views": {},
      "default_view": {},
      "provenance": [],
      "collapsed_sections": []
    },
    "kernelspec": {
      "name": "python3",
      "display_name": "Python 3"
    }
  },
  "cells": [
    {
      "metadata": {
        "id": "r_2TZccpO535",
        "colab_type": "code",
        "colab": {
          "autoexec": {
            "startup": false,
            "wait_interval": 0
          },
          "output_extras": [
            {
              "item_id": 1
            }
          ],
          "base_uri": "https://localhost:8080/",
          "height": 90
        },
        "outputId": "ff0dfee0-78bb-4d47-9e8a-dd796fb84aa4",
        "executionInfo": {
          "status": "ok",
          "timestamp": 1521567895091,
          "user_tz": -60,
          "elapsed": 1033,
          "user": {
            "displayName": "Ala Potyrała",
            "photoUrl": "https://lh3.googleusercontent.com/a/default-user=s128",
            "userId": "114074462977604664707"
          }
        }
      },
      "cell_type": "code",
      "source": [
        "#zadanie 1= likelihood\n",
        "\n",
        "import numpy as np\n",
        "import matplotlib.pyplot as plt\n",
        "import random\n",
        "import math as m\n",
        "from decimal import *\n",
        "\n",
        "\n",
        "arr=np.array([16])\n",
        "\n",
        "#concept1-even numbers\n",
        "\n",
        "he= Decimal(250)\n",
        "\n",
        "N=0\n",
        "\n",
        "for a in range(len(arr)):\n",
        "  if(arr[a] % 2 == 0):\n",
        "    N = N+1\n",
        "\n",
        "pDH1= Decimal(m.pow((1/he),N))\n",
        "\n",
        "print(\"Concept 1 likelihood: \", pDH1)\n",
        "\n",
        "\n",
        "#concept2-odd numbers\n",
        "\n",
        "ho= Decimal(250)\n",
        "\n",
        "N2=0\n",
        "\n",
        "for b in range(len(arr)):\n",
        "  if(arr[b] % 2 != 0):\n",
        "    N2 = N2+1\n",
        "\n",
        "pDH2= Decimal(m.pow((1/ho),N2))\n",
        "\n",
        "print(\"Concept 2 likelihood: \", pDH2)\n",
        "\n",
        "#concept3-arithmetic sequence ni+1=ni + 3\n",
        "\n",
        "ha1= Decimal(166)\n",
        "\n",
        "N3=len(arr)\n",
        "\n",
        "pDH3= Decimal(m.pow((1/ha1),N3))\n",
        "\n",
        "print(\"Concept 3 likelihood: \", pDH3)\n",
        "\n",
        "#concept4-arithmetic sequence ni+1=ni + 20\n",
        "\n",
        "ha2= Decimal(25)\n",
        "N4=len(arr)\n",
        "\n",
        "pDH4= Decimal(m.pow((1/ha2),N4))\n",
        "\n",
        "print(\"Concept 4 likelihood: \", pDH4)"
      ],
      "execution_count": 25,
      "outputs": [
        {
          "output_type": "stream",
          "text": [
            "Concept 1 likelihood:  0.0040000000000000000832667268468867405317723751068115234375\n",
            "Concept 2 likelihood:  1\n",
            "Concept 3 likelihood:  0.00602409638554216898820303782713381224311888217926025390625\n",
            "Concept 4 likelihood:  0.040000000000000000832667268468867405317723751068115234375\n"
          ],
          "name": "stdout"
        }
      ]
    },
    {
      "metadata": {
        "id": "EygGT4O-a4Ut",
        "colab_type": "code",
        "colab": {
          "autoexec": {
            "startup": false,
            "wait_interval": 0
          },
          "output_extras": [
            {
              "item_id": 1
            }
          ],
          "base_uri": "https://localhost:8080/",
          "height": 90
        },
        "outputId": "d1185d64-ae99-406e-dc45-ec52aaaf0ab0",
        "executionInfo": {
          "status": "ok",
          "timestamp": 1521564768969,
          "user_tz": -60,
          "elapsed": 730,
          "user": {
            "displayName": "Ala Potyrała",
            "photoUrl": "https://lh3.googleusercontent.com/a/default-user=s128",
            "userId": "114074462977604664707"
          }
        }
      },
      "cell_type": "code",
      "source": [
        "#zadanie 2= posterior\n",
        "\n",
        "arr=np.array([3,90,28,120,456])\n",
        "\n",
        "priori=np.array([Decimal(0.1),Decimal(0.2),Decimal(0.2),Decimal(0.5)])\n",
        "\n",
        "#concept1-even numbers\n",
        "\n",
        "ap1=(pDH1*priori[0])\n",
        "\n",
        "print(ap1)\n",
        "\n",
        "#concept2-odd numbers\n",
        "\n",
        "ap2=(pDH2*priori[1])\n",
        "\n",
        "print(ap2)\n",
        "#concept3-arithmetic sequence ni+1=ni + 3\n",
        "\n",
        "ap3=(pDH3*priori[2])\n",
        "\n",
        "print (ap3)\n",
        "\n",
        "#concept4-arithmetic sequence ni+1=ni + 20\n",
        "ap4=(pDH4*priori[3])\n",
        "print (ap4)"
      ],
      "execution_count": 2,
      "outputs": [
        {
          "output_type": "stream",
          "text": [
            "2.560000000000000607606247929E-11\n",
            "0.0008000000000000000610622663544\n",
            "1.586680759719188885246208731E-12\n",
            "5.120000000000000848277340298E-8\n"
          ],
          "name": "stdout"
        }
      ]
    },
    {
      "metadata": {
        "id": "pUcIkGu6r4Ss",
        "colab_type": "code",
        "colab": {
          "autoexec": {
            "startup": false,
            "wait_interval": 0
          },
          "output_extras": [
            {
              "item_id": 3
            },
            {
              "item_id": 4
            }
          ],
          "base_uri": "https://localhost:8080/",
          "height": 425
        },
        "outputId": "8d4926cc-f0e7-4cac-c371-027b6fdbe912",
        "executionInfo": {
          "status": "error",
          "timestamp": 1521567250176,
          "user_tz": -60,
          "elapsed": 19700,
          "user": {
            "displayName": "Ala Potyrała",
            "photoUrl": "https://lh3.googleusercontent.com/a/default-user=s128",
            "userId": "114074462977604664707"
          }
        }
      },
      "cell_type": "code",
      "source": [
        "#zadanie 3= MAP\n",
        "import math as m\n",
        "\n",
        "arr=np.array([3,90,28,120,456])\n",
        "\n",
        "\n",
        "#g= lambda x: x % 2 == 0 \n",
        "\n",
        "def lambdas_inp(text):\n",
        "  str_arr = input(text).split(',')\n",
        "  return str_arr\n",
        "\n",
        "def getparams():\n",
        "    return int(input('Concept 1: ')), int(input('Concept 2: '))\n",
        "  \n",
        "\n",
        "def likelihood(arr,c,d):\n",
        "  N= len(arr)\n",
        "  \n",
        "  pDH = Decimal(m.pow(1/(500/c),N))\n",
        "  pDH1 = Decimal(m.pow(1/(500/d),N))\n",
        "  return pDH\n",
        "\n",
        "def posterior(lik):\n",
        "  prior=Decimal(0.1)\n",
        "  post= lik*prior\n",
        "  return post\n",
        "  \n",
        "lambd= lambdas_inp('lambda: ')\n",
        "c, d = getparams()\n",
        "likel= likelihood(arr,c,d)\n",
        "poster= posterior(likel)\n",
        "\n",
        "print(poster)\n",
        "\n"
      ],
      "execution_count": 24,
      "outputs": [
        {
          "output_type": "stream",
          "text": [
            "lambda: x%2==0, x%2==1\n",
            "Concept 1: 2\n",
            "Concept 1: 3\n"
          ],
          "name": "stdout"
        },
        {
          "output_type": "error",
          "ename": "TypeError",
          "evalue": "ignored",
          "traceback": [
            "\u001b[0;31m---------------------------------------------------------------------------\u001b[0m",
            "\u001b[0;31mTypeError\u001b[0m                                 Traceback (most recent call last)",
            "\u001b[0;32m<ipython-input-24-93d1bc44b4fe>\u001b[0m in \u001b[0;36m<module>\u001b[0;34m()\u001b[0m\n\u001b[1;32m     26\u001b[0m \u001b[0mlambd\u001b[0m\u001b[0;34m=\u001b[0m \u001b[0mlambdas_inp\u001b[0m\u001b[0;34m(\u001b[0m\u001b[0;34m'lambda: '\u001b[0m\u001b[0;34m)\u001b[0m\u001b[0;34m\u001b[0m\u001b[0m\n\u001b[1;32m     27\u001b[0m \u001b[0mc\u001b[0m\u001b[0;34m=\u001b[0m\u001b[0mgetparams\u001b[0m\u001b[0;34m(\u001b[0m\u001b[0;34m)\u001b[0m\u001b[0;34m\u001b[0m\u001b[0m\n\u001b[0;32m---> 28\u001b[0;31m \u001b[0mlikel\u001b[0m\u001b[0;34m=\u001b[0m \u001b[0mlikelihood\u001b[0m\u001b[0;34m(\u001b[0m\u001b[0marr\u001b[0m\u001b[0;34m,\u001b[0m\u001b[0mc\u001b[0m\u001b[0;34m)\u001b[0m\u001b[0;34m\u001b[0m\u001b[0m\n\u001b[0m\u001b[1;32m     29\u001b[0m \u001b[0mposter\u001b[0m\u001b[0;34m=\u001b[0m \u001b[0mposterior\u001b[0m\u001b[0;34m(\u001b[0m\u001b[0mlikel\u001b[0m\u001b[0;34m)\u001b[0m\u001b[0;34m\u001b[0m\u001b[0m\n\u001b[1;32m     30\u001b[0m \u001b[0;34m\u001b[0m\u001b[0m\n",
            "\u001b[0;32m<ipython-input-24-93d1bc44b4fe>\u001b[0m in \u001b[0;36mlikelihood\u001b[0;34m(arr, c)\u001b[0m\n\u001b[1;32m     16\u001b[0m \u001b[0;32mdef\u001b[0m \u001b[0mlikelihood\u001b[0m\u001b[0;34m(\u001b[0m\u001b[0marr\u001b[0m\u001b[0;34m,\u001b[0m\u001b[0mc\u001b[0m\u001b[0;34m)\u001b[0m\u001b[0;34m:\u001b[0m\u001b[0;34m\u001b[0m\u001b[0m\n\u001b[1;32m     17\u001b[0m   \u001b[0mN\u001b[0m\u001b[0;34m=\u001b[0m \u001b[0mlen\u001b[0m\u001b[0;34m(\u001b[0m\u001b[0marr\u001b[0m\u001b[0;34m)\u001b[0m\u001b[0;34m\u001b[0m\u001b[0m\n\u001b[0;32m---> 18\u001b[0;31m   \u001b[0mpDH\u001b[0m \u001b[0;34m=\u001b[0m \u001b[0mDecimal\u001b[0m\u001b[0;34m(\u001b[0m\u001b[0mm\u001b[0m\u001b[0;34m.\u001b[0m\u001b[0mpow\u001b[0m\u001b[0;34m(\u001b[0m\u001b[0;36m1\u001b[0m\u001b[0;34m/\u001b[0m\u001b[0;34m(\u001b[0m\u001b[0;36m500\u001b[0m\u001b[0;34m/\u001b[0m\u001b[0mc\u001b[0m\u001b[0;34m)\u001b[0m\u001b[0;34m,\u001b[0m\u001b[0mN\u001b[0m\u001b[0;34m)\u001b[0m\u001b[0;34m)\u001b[0m\u001b[0;34m\u001b[0m\u001b[0m\n\u001b[0m\u001b[1;32m     19\u001b[0m   \u001b[0;32mreturn\u001b[0m \u001b[0mpDH\u001b[0m\u001b[0;34m\u001b[0m\u001b[0m\n\u001b[1;32m     20\u001b[0m \u001b[0;34m\u001b[0m\u001b[0m\n",
            "\u001b[0;31mTypeError\u001b[0m: unsupported operand type(s) for /: 'int' and 'tuple'"
          ]
        }
      ]
    },
    {
      "metadata": {
        "id": "ADNZ7D7eWzay",
        "colab_type": "code",
        "colab": {
          "autoexec": {
            "startup": false,
            "wait_interval": 0
          },
          "output_extras": [
            {
              "item_id": 1
            }
          ],
          "base_uri": "https://localhost:8080/",
          "height": 452
        },
        "outputId": "4fde9a63-fb5b-4072-cdb2-e46222f7ea92",
        "executionInfo": {
          "status": "ok",
          "timestamp": 1521549094876,
          "user_tz": -60,
          "elapsed": 855,
          "user": {
            "displayName": "Ala Potyrała",
            "photoUrl": "https://lh3.googleusercontent.com/a/default-user=s128",
            "userId": "114074462977604664707"
          }
        }
      },
      "cell_type": "code",
      "source": [
        "#zadanie 4= MAP vs ML\n",
        "\n",
        "import matplotlib.pyplot as plt; plt.rcdefaults()\n",
        "import numpy as np\n",
        "import matplotlib.pyplot as plt\n",
        " \n",
        "objects = ('MAP', 'ML')\n",
        "y_pos = np.arange(len(objects))\n",
        "performance = [10,8]\n",
        " \n",
        "plt.bar(y_pos, performance, align='center', alpha=0.5)\n",
        "plt.xticks(y_pos, objects)\n",
        "plt.ylabel('No of examples')\n",
        "plt.title('MAP/ML')\n",
        " \n",
        "plt.show()\n"
      ],
      "execution_count": 16,
      "outputs": [
        {
          "output_type": "display_data",
          "data": {
            "image/png": "[encoded data removed]",
            "text/plain": [
              "<matplotlib.figure.Figure at 0x7fa6a10dc0d0>"
            ]
          },
          "metadata": {
            "tags": []
          }
        }
      ]
    }
  ]
}