{
  "nbformat": 4,
  "nbformat_minor": 0,
  "metadata": {
    "colab": {
      "name": "lab7.ipynb",
      "version": "0.3.2",
      "views": {},
      "default_view": {},
      "provenance": [],
      "collapsed_sections": []
    },
    "kernelspec": {
      "name": "python3",
      "display_name": "Python 3"
    }
  },
  "cells": [
    {
      "metadata": {
        "id": "IB8IwS2pzTQs",
        "colab_type": "code",
        "colab": {
          "autoexec": {
            "startup": false,
            "wait_interval": 0
          }
        }
      },
      "cell_type": "code",
      "source": [
        "from scipy.stats import bernoulli, binom, beta\n",
        "import numpy as np\n",
        "\n",
        "import scipy.special\n",
        "import matplotlib\n",
        "import matplotlib.pyplot as plt\n",
        "%matplotlib inline\n"
      ],
      "execution_count": 0,
      "outputs": []
    },
    {
      "metadata": {
        "id": "DNaeprHd6pi7",
        "colab_type": "text"
      },
      "cell_type": "markdown",
      "source": [
        "**Likelihood**"
      ]
    },
    {
      "metadata": {
        "id": "y1VCgsLerAPF",
        "colab_type": "code",
        "colab": {
          "autoexec": {
            "startup": false,
            "wait_interval": 0
          }
        }
      },
      "cell_type": "code",
      "source": [
        "def likelihood(data, theta):\n",
        "  ones = np.count_nonzero(data)\n",
        "  return binom.pmf(ones, len(data), theta)\n"
      ],
      "execution_count": 0,
      "outputs": []
    },
    {
      "metadata": {
        "id": "lG9hIxGf6tYE",
        "colab_type": "text"
      },
      "cell_type": "markdown",
      "source": [
        "**Prior**"
      ]
    },
    {
      "metadata": {
        "id": "re0C1_tE6tBO",
        "colab_type": "code",
        "colab": {
          "autoexec": {
            "startup": false,
            "wait_interval": 0
          }
        }
      },
      "cell_type": "code",
      "source": [
        "#beta- conjugate prior\n",
        "\n",
        "def prior(theta, a, b):\n",
        "  return beta.pdf(theta, a, b)"
      ],
      "execution_count": 0,
      "outputs": []
    },
    {
      "metadata": {
        "id": "meH8mfQ46zRS",
        "colab_type": "text"
      },
      "cell_type": "markdown",
      "source": [
        "**Posterior**"
      ]
    },
    {
      "metadata": {
        "id": "czfxr58V6ytU",
        "colab_type": "code",
        "colab": {
          "autoexec": {
            "startup": false,
            "wait_interval": 0
          }
        }
      },
      "cell_type": "code",
      "source": [
        "def posterior(data, a, b, theta):\n",
        "  ones = np.count_nonzero(data)\n",
        "  return beta.pdf(theta, ones + a, len(data) - ones + b)"
      ],
      "execution_count": 0,
      "outputs": []
    },
    {
      "metadata": {
        "id": "9A3NErGyx9U4",
        "colab_type": "text"
      },
      "cell_type": "markdown",
      "source": [
        "**Posterior-predictive**"
      ]
    },
    {
      "metadata": {
        "id": "wfz0UQmqy9RS",
        "colab_type": "code",
        "colab": {
          "autoexec": {
            "startup": false,
            "wait_interval": 0
          }
        }
      },
      "cell_type": "code",
      "source": [
        "def posterior_predictive(data, a, b):\n",
        "  X = np.count_nonzero(data) #X\n",
        "  N= len(data)\n",
        "  return (a+X) /(a+b+N)"
      ],
      "execution_count": 0,
      "outputs": []
    },
    {
      "metadata": {
        "id": "BZV-lir201Z7",
        "colab_type": "text"
      },
      "cell_type": "markdown",
      "source": [
        "**zad1**"
      ]
    },
    {
      "metadata": {
        "id": "_kl-9G6Zyw2z",
        "colab_type": "code",
        "colab": {
          "autoexec": {
            "startup": false,
            "wait_interval": 0
          },
          "base_uri": "https://localhost:8080/",
          "height": 334
        },
        "outputId": "b8ec9029-5774-413c-e58d-68d07026128f",
        "executionInfo": {
          "status": "ok",
          "timestamp": 1525786083415,
          "user_tz": -120,
          "elapsed": 1021,
          "user": {
            "displayName": "Ala Potyrała",
            "photoUrl": "https://lh3.googleusercontent.com/a/default-user=s128",
            "userId": "114074462977604664707"
          }
        }
      },
      "cell_type": "code",
      "source": [
        "def main():\n",
        "  \n",
        "  thetas = np.arange(0, 1.01, 0.01)\n",
        "  a=2 \n",
        "  b=2\n",
        "  data = [1,0,1,1]\n",
        "  print(data)\n",
        "\n",
        "  priors = []\n",
        "  likelihoods = []\n",
        "  posteriors = []\n",
        "\n",
        "  for theta in thetas:\n",
        "      priors.append(prior(theta, a, b))\n",
        "      likelihoods.append(likelihood(data, theta))\n",
        "      posteriors.append(posterior(data, a, b, theta))\n",
        "\n",
        "  plt.plot(thetas, priors, label='prior')\n",
        "  plt.plot(thetas, likelihoods, label='likelihood')\n",
        "  plt.plot(thetas, posteriors, label='posterior')\n",
        "  plt.xlabel('theta')\n",
        "  plt.legend()\n",
        "  plt.show()\n",
        "\n",
        "  print(posterior_predictive(data, a, b))\n",
        "\n",
        "  \n",
        "main()"
      ],
      "execution_count": 24,
      "outputs": [
        {
          "output_type": "stream",
          "text": [
            "[1, 0, 1, 1]\n"
          ],
          "name": "stdout"
        },
        {
          "output_type": "display_data",
          "data": {
            "image/png": "[encoded data removed]",
            "text/plain": [
              "<matplotlib.figure.Figure at 0x7f2bde6b0f28>"
            ]
          },
          "metadata": {
            "tags": []
          }
        },
        {
          "output_type": "stream",
          "text": [
            "0.625\n",
            "0.625\n"
          ],
          "name": "stdout"
        }
      ]
    }
  ]
}