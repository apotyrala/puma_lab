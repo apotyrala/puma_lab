{
  "nbformat": 4,
  "nbformat_minor": 0,
  "metadata": {
    "colab": {
      "name": "Lista2.ipynb",
      "version": "0.3.2",
      "views": {},
      "default_view": {},
      "provenance": [],
      "collapsed_sections": []
    },
    "kernelspec": {
      "name": "python3",
      "display_name": "Python 3"
    }
  },
  "cells": [
    {
      "metadata": {
        "id": "cs76oVylodZ9",
        "colab_type": "code",
        "colab": {
          "autoexec": {
            "startup": false,
            "wait_interval": 0
          },
          "output_extras": [
            {
              "item_id": 1
            }
          ],
          "base_uri": "https://localhost:8080/",
          "height": 349
        },
        "outputId": "b0f884b3-e3d0-47ca-e5f6-818abd1b71ef",
        "executionInfo": {
          "status": "ok",
          "timestamp": 1520966423016,
          "user_tz": -60,
          "elapsed": 929,
          "user": {
            "displayName": "Ala Potyrała",
            "photoUrl": "https://lh3.googleusercontent.com/a/default-user=s128",
            "userId": "114074462977604664707"
          }
        }
      },
      "cell_type": "code",
      "source": [
        "#zadanie 1\n",
        "from matplotlib import pyplot as plt\n",
        "import random\n",
        "import scipy as sp\n",
        "from scipy import stats\n",
        "import matplotlib as mpl\n",
        "import numpy as np\n",
        "\n",
        "\n",
        "#a- single gauss\n",
        "\n",
        "gauss = np.random.normal(1,0.5,1000)\n",
        "\n",
        "heights,bins = np.histogram(gauss,bins=50)\n",
        "\n",
        "heights = heights/sum(heights)\n",
        "\n",
        "plt.bar(bins[:-1],heights,width=(max(bins) - min(bins))/len(bins), color=\"blue\", alpha=0.5)\n",
        "plt.show()\n"
      ],
      "execution_count": 34,
      "outputs": [
        {
          "output_type": "display_data",
          "data": {
            "image/png": "[encoded data removed]",
            "text/plain": [
              "<matplotlib.figure.Figure at 0x7ff71af28898>"
            ]
          },
          "metadata": {
            "tags": []
          }
        }
      ]
    },
    {
      "metadata": {
        "id": "NTAlyWsGpkLQ",
        "colab_type": "code",
        "colab": {
          "autoexec": {
            "startup": false,
            "wait_interval": 0
          },
          "output_extras": [
            {
              "item_id": 1
            }
          ],
          "base_uri": "https://localhost:8080/",
          "height": 347
        },
        "outputId": "8f3fd6ff-2a1c-4f85-c6c3-d88834c4b65b",
        "executionInfo": {
          "status": "ok",
          "timestamp": 1520966393708,
          "user_tz": -60,
          "elapsed": 962,
          "user": {
            "displayName": "Ala Potyrała",
            "photoUrl": "https://lh3.googleusercontent.com/a/default-user=s128",
            "userId": "114074462977604664707"
          }
        }
      },
      "cell_type": "code",
      "source": [
        "#b- 2 gaussian\n",
        "\n",
        "mean = (0, 5)\n",
        "cov = [[1, 0], [0, 1]]\n",
        "gauss2 = np.random.multivariate_normal(mean, cov, 1000).T\n",
        "\n",
        "heights2,bins2 = np.histogram(gauss2,bins=50)\n",
        "heights2 = heights2/sum(heights2)\n",
        "\n",
        "plt.bar(bins2[:-1],heights2,width=(max(bins2) - min(bins2))/len(bins2), color=\"blue\", alpha=0.5)\n",
        "plt.show()"
      ],
      "execution_count": 33,
      "outputs": [
        {
          "output_type": "display_data",
          "data": {
            "image/png": "[encoded data removed]",
            "text/plain": [
              "<matplotlib.figure.Figure at 0x7ff71ae3def0>"
            ]
          },
          "metadata": {
            "tags": []
          }
        }
      ]
    },
    {
      "metadata": {
        "id": "3-OjpCK_pmXi",
        "colab_type": "code",
        "colab": {
          "autoexec": {
            "startup": false,
            "wait_interval": 0
          },
          "output_extras": [
            {
              "item_id": 1
            },
            {
              "item_id": 2
            }
          ],
          "base_uri": "https://localhost:8080/",
          "height": 383
        },
        "outputId": "2ad5f686-655f-4205-9d8a-74d80d45168e",
        "executionInfo": {
          "status": "ok",
          "timestamp": 1520966246132,
          "user_tz": -60,
          "elapsed": 842,
          "user": {
            "displayName": "Ala Potyrała",
            "photoUrl": "https://lh3.googleusercontent.com/a/default-user=s128",
            "userId": "114074462977604664707"
          }
        }
      },
      "cell_type": "code",
      "source": [
        "#c- N gaussian\n",
        "\n",
        "mean2 = (0, 5, 10)\n",
        "cov2 = [[1,0,0], [0,1,1], [1,1,1]]\n",
        "gaussN= np.random.multivariate_normal(mean2, cov2, 1000).T\n",
        "\n",
        "heightsN,binsN = np.histogram(gaussN,bins=50)\n",
        "heightsN = heightsN/sum(heightsN)\n",
        "plt.bar(bins[:-1],heightsN,width=(max(binsN) - min(binsN))/len(binsN), color=\"blue\", alpha=0.5)\n",
        "plt.show()"
      ],
      "execution_count": 32,
      "outputs": [
        {
          "output_type": "stream",
          "text": [
            "/usr/local/lib/python3.6/dist-packages/ipykernel_launcher.py:4: RuntimeWarning: covariance is not positive-semidefinite.\n",
            "  after removing the cwd from sys.path.\n"
          ],
          "name": "stderr"
        },
        {
          "output_type": "display_data",
          "data": {
            "image/png": "[encoded data removed]",
            "text/plain": [
              "<matplotlib.figure.Figure at 0x7ff71aecd1d0>"
            ]
          },
          "metadata": {
            "tags": []
          }
        }
      ]
    },
    {
      "metadata": {
        "id": "uYq7DRAn5dRd",
        "colab_type": "code",
        "colab": {
          "autoexec": {
            "startup": false,
            "wait_interval": 0
          },
          "output_extras": [
            {
              "item_id": 1
            }
          ],
          "base_uri": "https://localhost:8080/",
          "height": 53
        },
        "outputId": "c19c988e-2f25-47f0-9125-08779568c87c",
        "executionInfo": {
          "status": "ok",
          "timestamp": 1520966604561,
          "user_tz": -60,
          "elapsed": 676,
          "user": {
            "displayName": "Ala Potyrała",
            "photoUrl": "https://lh3.googleusercontent.com/a/default-user=s128",
            "userId": "114074462977604664707"
          }
        }
      },
      "cell_type": "code",
      "source": [
        "#zadanie 2\n",
        "\n",
        "import scipy as sp\n",
        "import numpy as np\n",
        "import random\n",
        "from scipy.stats import binom\n",
        "\n",
        "prob_acc = 0.01\n",
        "acc_no = 0;\n",
        "\n",
        "\n",
        "def p_binomial(trials):\n",
        "  prob = binom(trials, prob_acc)\n",
        "  return prob.pmf(acc_no)\n",
        "\n",
        "def p_exp(samples):\n",
        "  arr = np.random.binomial(9,0.01,samples)\n",
        "  return np.count_nonzero(arr == 0)/samples\n",
        "  \n",
        "print(p_binomial(9))\n",
        "print(p_exp(1000))"
      ],
      "execution_count": 36,
      "outputs": [
        {
          "output_type": "stream",
          "text": [
            "0.9135172474836409\n",
            "0.918\n"
          ],
          "name": "stdout"
        }
      ]
    },
    {
      "metadata": {
        "id": "RuwlBtOIA5hZ",
        "colab_type": "code",
        "colab": {
          "autoexec": {
            "startup": false,
            "wait_interval": 0
          },
          "output_extras": [
            {
              "item_id": 1
            }
          ],
          "base_uri": "https://localhost:8080/",
          "height": 35
        },
        "outputId": "d66747b5-55cb-46b0-afb1-58f93f3a2e5f",
        "executionInfo": {
          "status": "ok",
          "timestamp": 1520966706131,
          "user_tz": -60,
          "elapsed": 678,
          "user": {
            "displayName": "Ala Potyrała",
            "photoUrl": "https://lh3.googleusercontent.com/a/default-user=s128",
            "userId": "114074462977604664707"
          }
        }
      },
      "cell_type": "code",
      "source": [
        "#zadanie 3\n",
        "from math import factorial, pow\n",
        "import scipy as sp\n",
        "import numpy as np\n",
        "from scipy.stats import multinomial, binom\n",
        "import random\n",
        "trials = 9;\n",
        "probs = [0.1,0.1,0.1,0.1,0.1,0.1,0.1,0.1,0.2]\n",
        "acc_no = np.zeros(n)\n",
        "  \n",
        "def probability_multi(trials):\n",
        "  prob = multinomial(trials, probs)\n",
        "  return prob.pmf(acc_no)\n",
        "\n",
        "print(probability_multi(trials))"
      ],
      "execution_count": 37,
      "outputs": [
        {
          "output_type": "stream",
          "text": [
            "0.0\n"
          ],
          "name": "stdout"
        }
      ]
    }
  ]
}