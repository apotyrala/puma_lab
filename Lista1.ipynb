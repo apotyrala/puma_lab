{
  "nbformat": 4,
  "nbformat_minor": 0,
  "metadata": {
    "colab": {
      "name": "Lista1.ipynb",
      "version": "0.3.2",
      "views": {},
      "default_view": {},
      "provenance": [],
      "collapsed_sections": []
    },
    "kernelspec": {
      "name": "python2",
      "display_name": "Python 2"
    }
  },
  "cells": [
    {
      "metadata": {
        "id": "ypys7DoYYF-k",
        "colab_type": "code",
        "colab": {
          "autoexec": {
            "startup": false,
            "wait_interval": 0
          },
          "output_extras": [
            {
              "item_id": 2
            },
            {
              "item_id": 3
            }
          ],
          "base_uri": "https://localhost:8080/",
          "height": 395
        },
        "outputId": "36072ea3-8f5b-48fa-b526-e0565707fcb4",
        "executionInfo": {
          "status": "ok",
          "timestamp": 1519753631838,
          "user_tz": -60,
          "elapsed": 6024,
          "user": {
            "displayName": "Ala Potyrała",
            "photoUrl": "https://lh3.googleusercontent.com/a/default-user=s128",
            "userId": "114074462977604664707"
          }
        }
      },
      "cell_type": "code",
      "source": [
        "#zadanie 1\n",
        "import numpy as np\n",
        "from IPython.display import HTML\n",
        "import matplotlib.pyplot as plt\n",
        "import matplotlib.patches as patches\n",
        "import matplotlib.path as path\n",
        "import matplotlib.animation as animation\n",
        "import random\n",
        "from decimal import *\n",
        "\n",
        "\n",
        "def randnums(number, startnum, endnum):\n",
        "    for i in xrange(number):\n",
        "         yield random.randint(startnum, endnum)\n",
        "\n",
        "def getparams():\n",
        "    return int(input('Lowest number: ')), int(input('Highest number: '))\n",
        "\n",
        "  \n",
        "def main():\n",
        "    probArr = np.array([])\n",
        "    bottom, top = getparams()\n",
        "    nums = list(randnums(20, startnum=bottom, endnum=top))\n",
        "    \n",
        "    for a in range(bottom,top):\n",
        "          x=nums.count(a)\n",
        "          prob=(x*100)/20\n",
        "          probArr=np.append(probArr,prob)\n",
        "          x=0\n",
        "          \n",
        "    x_points=np.arange(bottom,top)\n",
        "    plt.xticks(x_points)\n",
        "    plt.xlabel('number')\n",
        "    y_heights=probArr\n",
        "    plt.yticks(y_heights)\n",
        "    plt.ylabel('probability')\n",
        "    p1 = plt.bar(x_points,y_heights,width=1,color='b')\n",
        "    for rect, y in zip(p1, y_heights):\n",
        "      rect.set_height(y)\n",
        "      \n",
        "    plt.show()\n",
        "    \n",
        "    \n",
        "main()\n",
        "    \n",
        "    "
      ],
      "execution_count": 174,
      "outputs": [
        {
          "output_type": "stream",
          "text": [
            "Lowest number: 1\n",
            "Highest number: 20\n"
          ],
          "name": "stdout"
        },
        {
          "output_type": "display_data",
          "data": {
            "image/png": "[encoded data removed]",
            "text/plain": [
              "<matplotlib.figure.Figure at 0x7f016f26a3d0>"
            ]
          },
          "metadata": {
            "tags": []
          }
        }
      ]
    },
    {
      "metadata": {
        "id": "a-Aun1I_YHa9",
        "colab_type": "code",
        "colab": {
          "autoexec": {
            "startup": false,
            "wait_interval": 0
          },
          "output_extras": [
            {
              "item_id": 3
            }
          ],
          "base_uri": "https://localhost:8080/",
          "height": 85
        },
        "outputId": "bd1babe0-06dd-4b7b-95c2-d3aa533d408f",
        "executionInfo": {
          "status": "ok",
          "timestamp": 1519753686539,
          "user_tz": -60,
          "elapsed": 9232,
          "user": {
            "displayName": "Ala Potyrała",
            "photoUrl": "https://lh3.googleusercontent.com/a/default-user=s128",
            "userId": "114074462977604664707"
          }
        }
      },
      "cell_type": "code",
      "source": [
        "#zadanie 2\n",
        "\n",
        "import random\n",
        "import itertools\n",
        "from decimal import *\n",
        "\n",
        "def randnums(number, startnum, endnum):\n",
        "    for i in xrange(number):\n",
        "         yield random.randint(startnum, endnum)\n",
        "\n",
        "def getparams():\n",
        "    return int(input('Lowest number: ')), int(input('Highest number: '))\n",
        "  \n",
        "def count_pairs(lst):\n",
        "  second_list=[]\n",
        "  for i in range(0,len(lst)-1,2):\n",
        "    if lst[i]+1==lst[i+1]:\n",
        "      second_list.append([lst[i],lst[i+1]])\n",
        "  print second_list\n",
        "  return len(second_list)\n",
        "\n",
        "def main():\n",
        "    bottom, top = getparams()\n",
        "    nums = list(randnums(20, startnum=bottom, endnum=top))\n",
        "    nums.sort()\n",
        "    pairCount=Decimal(count_pairs(nums))\n",
        "    allPairs=Decimal((top-bottom)*2)\n",
        "    pairProb=Decimal((pairCount*2)/allPairs)\n",
        "    print('Probability of two consecutive numbers occurence: ', pairProb*100)\n",
        "\n",
        "    \n",
        "main()\n",
        "   \n",
        "    \n",
        "    \n"
      ],
      "execution_count": 175,
      "outputs": [
        {
          "output_type": "stream",
          "text": [
            "Lowest number: 1\n",
            "Highest number: 20\n",
            "[[1, 2], [3, 4], [13, 14], [15, 16]]\n",
            "('Probability of two consecutive numbers occurence: ', Decimal('21.05263157894736842105263158'))\n"
          ],
          "name": "stdout"
        }
      ]
    },
    {
      "metadata": {
        "id": "AHusq9_9ARv6",
        "colab_type": "code",
        "colab": {
          "autoexec": {
            "startup": false,
            "wait_interval": 0
          },
          "output_extras": [
            {
              "item_id": 1
            },
            {
              "item_id": 2
            }
          ],
          "base_uri": "https://localhost:8080/",
          "height": 382
        },
        "outputId": "89372789-5701-4e78-9eb9-16622f0245fc",
        "executionInfo": {
          "status": "ok",
          "timestamp": 1519751219930,
          "user_tz": -60,
          "elapsed": 697,
          "user": {
            "displayName": "Ala Potyrała",
            "photoUrl": "https://lh3.googleusercontent.com/a/default-user=s128",
            "userId": "114074462977604664707"
          }
        }
      },
      "cell_type": "code",
      "source": [
        "#zadanie 3\n",
        "from decimal import *\n",
        "import numpy as np\n",
        "import matplotlib.pyplot as plt\n",
        "\n",
        "numSick = Decimal(1.0)\n",
        "numAll= Decimal(50000.0)\n",
        "\n",
        "\n",
        "positiveTest = Decimal(0.98)\n",
        "positiveTestFail = Decimal(0.02)\n",
        "negativeTest = Decimal(0.99)\n",
        "negativeTestFail = Decimal(0.01)\n",
        "\n",
        "A = np.array([])\n",
        "\n",
        "#A- choroba, X- test pozytywny\n",
        "\n",
        "for i in range(100):\n",
        "  sickProb= Decimal((numSick/numAll))\n",
        "  healthyProb= Decimal(1 - sickProb)\n",
        "  probAX= Decimal((positiveTest*sickProb)/((positiveTest*sickProb)+(positiveTestFail*healthyProb)))\n",
        "  result= Decimal(probAX*100)\n",
        "  A = np.append(A, result)\n",
        "  numSick=numSick+1\n",
        "\n",
        "  \n",
        "plt.plot(A)\n",
        "plt.xlabel('number of sick people')\n",
        "plt.ylabel('probability (%)')\n",
        "plt.axis([0,100,0,100])\n",
        "\n"
      ],
      "execution_count": 137,
      "outputs": [
        {
          "output_type": "execute_result",
          "data": {
            "text/plain": [
              "[0, 100, 0, 100]"
            ]
          },
          "metadata": {
            "tags": []
          },
          "execution_count": 137
        },
        {
          "output_type": "display_data",
          "data": {
            "image/png": "[encoded data removed]",
            "text/plain": [
              "<matplotlib.figure.Figure at 0x7f016f869190>"
            ]
          },
          "metadata": {
            "tags": []
          }
        }
      ]
    }
  ]
}