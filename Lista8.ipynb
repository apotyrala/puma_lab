{
  "nbformat": 4,
  "nbformat_minor": 0,
  "metadata": {
    "colab": {
      "name": "lab8.ipynb",
      "version": "0.3.2",
      "views": {},
      "default_view": {},
      "provenance": []
    },
    "kernelspec": {
      "name": "python3",
      "display_name": "Python 3"
    }
  },
  "cells": [
    {
      "metadata": {
        "id": "oXYoWesFTESz",
        "colab_type": "code",
        "colab": {
          "autoexec": {
            "startup": false,
            "wait_interval": 0
          }
        }
      },
      "cell_type": "code",
      "source": [
        "import numpy as np\n",
        "import scipy.stats\n",
        "from collections import Counter\n",
        "from decimal import *\n",
        "\n",
        "import matplotlib\n",
        "import matplotlib.pyplot as plt\n",
        "%matplotlib inline\n",
        "\n",
        "\n",
        "from matplotlib import animation, rc\n",
        "import random\n",
        "\n",
        "plt.rcParams['figure.figsize'] = [10, 10]"
      ],
      "execution_count": 0,
      "outputs": []
    },
    {
      "metadata": {
        "id": "k7_Rumu43L8y",
        "colab_type": "code",
        "colab": {
          "autoexec": {
            "startup": false,
            "wait_interval": 0
          }
        }
      },
      "cell_type": "code",
      "source": [
        "def likelihood(data, thetas):\n",
        "  return np.prod(np.power(thetas, data_counts(data,thetas)))\n",
        "    \n",
        "def prior(thetas,alphas):\n",
        "  return scipy.stats.dirichlet.pdf(thetas, alphas)\n",
        "\n",
        "def posterior(data,thetas,alphas):\n",
        "  return scipy.stats.dirichlet.pdf(thetas, np.array(alphas) + np.array(data_counts(data,thetas)))\n",
        "                                                \n",
        "def data_counts(data,thetas):\n",
        "  return [data.count(k) for k in range(len(thetas))]"
      ],
      "execution_count": 0,
      "outputs": []
    },
    {
      "metadata": {
        "id": "H4GAoPBhSo2V",
        "colab_type": "code",
        "colab": {
          "autoexec": {
            "startup": false,
            "wait_interval": 0
          },
          "base_uri": "https://localhost:8080/",
          "height": 90
        },
        "outputId": "c0813f4b-1882-4529-9ff2-5a6ba61917be",
        "executionInfo": {
          "status": "ok",
          "timestamp": 1525794577405,
          "user_tz": -120,
          "elapsed": 872,
          "user": {
            "displayName": "Ala Potyrała",
            "photoUrl": "https://lh3.googleusercontent.com/a/default-user=s128",
            "userId": "114074462977604664707"
          }
        }
      },
      "cell_type": "code",
      "source": [
        "def posterior_prediction(data,alphas,thetas):\n",
        "  data_c = data_counts(data,thetas)\n",
        "  return (np.array(alphas) + np.array(data_c))/ (np.sum(data_c) + np.sum(alphas))\n",
        "\n",
        "def main():\n",
        "  \n",
        "\n",
        "  thetas=[0.2, 0.2, 0.2, 0.2,0.2] #tablica prawdopodobienstw\n",
        "  alphas=[1, 1, 1, 1, 1]\n",
        "  data = [1, 2, 3, 4, 5] #tablica wynikow\n",
        "  print(likelihood(data,thetas))\n",
        "  print(prior(thetas,alphas))\n",
        "  print(posterior(data,thetas,alphas))\n",
        "  \n",
        "\n",
        "  print(posterior_prediction(data,alphas,thetas))\n",
        "  \n",
        "main()"
      ],
      "execution_count": 15,
      "outputs": [
        {
          "output_type": "stream",
          "text": [
            "0.0016000000000000005\n",
            "24.000000000000004\n",
            "64.51200000000007\n",
            "[0.11111111 0.22222222 0.22222222 0.22222222 0.22222222]\n"
          ],
          "name": "stdout"
        }
      ]
    }
  ]
}